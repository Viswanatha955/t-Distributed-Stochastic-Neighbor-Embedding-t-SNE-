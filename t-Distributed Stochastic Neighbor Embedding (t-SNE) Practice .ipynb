{
 "cells": [
  {
   "cell_type": "code",
   "execution_count": 1,
   "id": "7738370d",
   "metadata": {},
   "outputs": [],
   "source": [
    "import numpy as np \n",
    "from sklearn.manifold import TSNE \n",
    "import matplotlib.pyplot as plt \n",
    "import pandas as pd \n",
    "#from sklearn.decomposition import PCA "
   ]
  },
  {
   "cell_type": "code",
   "execution_count": 3,
   "id": "68c3945d",
   "metadata": {},
   "outputs": [],
   "source": [
    "cluster_1 = np.random.normal(loc=-2.0, scale=0.5, size=(40,2))\n",
    "cluster_2 = np.random.normal(loc=0.0, scale=0.5, size=(40,2))\n",
    "cluster_3 = np.random.normal(loc=2.0, scale=0.5, size=(40,2))"
   ]
  },
  {
   "cell_type": "code",
   "execution_count": 4,
   "id": "c92fdeaf",
   "metadata": {},
   "outputs": [
    {
     "data": {
      "text/html": [
       "<div>\n",
       "<style scoped>\n",
       "    .dataframe tbody tr th:only-of-type {\n",
       "        vertical-align: middle;\n",
       "    }\n",
       "\n",
       "    .dataframe tbody tr th {\n",
       "        vertical-align: top;\n",
       "    }\n",
       "\n",
       "    .dataframe thead th {\n",
       "        text-align: right;\n",
       "    }\n",
       "</style>\n",
       "<table border=\"1\" class=\"dataframe\">\n",
       "  <thead>\n",
       "    <tr style=\"text-align: right;\">\n",
       "      <th></th>\n",
       "      <th>X1</th>\n",
       "      <th>X2</th>\n",
       "    </tr>\n",
       "  </thead>\n",
       "  <tbody>\n",
       "    <tr>\n",
       "      <th>0</th>\n",
       "      <td>-2.707665</td>\n",
       "      <td>-2.409369</td>\n",
       "    </tr>\n",
       "    <tr>\n",
       "      <th>1</th>\n",
       "      <td>-2.268313</td>\n",
       "      <td>-2.170712</td>\n",
       "    </tr>\n",
       "    <tr>\n",
       "      <th>2</th>\n",
       "      <td>-2.104056</td>\n",
       "      <td>-1.491037</td>\n",
       "    </tr>\n",
       "    <tr>\n",
       "      <th>3</th>\n",
       "      <td>-1.694374</td>\n",
       "      <td>-2.367534</td>\n",
       "    </tr>\n",
       "    <tr>\n",
       "      <th>4</th>\n",
       "      <td>-1.217292</td>\n",
       "      <td>-1.365862</td>\n",
       "    </tr>\n",
       "    <tr>\n",
       "      <th>...</th>\n",
       "      <td>...</td>\n",
       "      <td>...</td>\n",
       "    </tr>\n",
       "    <tr>\n",
       "      <th>115</th>\n",
       "      <td>1.033241</td>\n",
       "      <td>3.129215</td>\n",
       "    </tr>\n",
       "    <tr>\n",
       "      <th>116</th>\n",
       "      <td>1.768992</td>\n",
       "      <td>2.528232</td>\n",
       "    </tr>\n",
       "    <tr>\n",
       "      <th>117</th>\n",
       "      <td>1.622635</td>\n",
       "      <td>1.790810</td>\n",
       "    </tr>\n",
       "    <tr>\n",
       "      <th>118</th>\n",
       "      <td>2.419892</td>\n",
       "      <td>2.496484</td>\n",
       "    </tr>\n",
       "    <tr>\n",
       "      <th>119</th>\n",
       "      <td>2.059504</td>\n",
       "      <td>0.953642</td>\n",
       "    </tr>\n",
       "  </tbody>\n",
       "</table>\n",
       "<p>120 rows × 2 columns</p>\n",
       "</div>"
      ],
      "text/plain": [
       "           X1        X2\n",
       "0   -2.707665 -2.409369\n",
       "1   -2.268313 -2.170712\n",
       "2   -2.104056 -1.491037\n",
       "3   -1.694374 -2.367534\n",
       "4   -1.217292 -1.365862\n",
       "..        ...       ...\n",
       "115  1.033241  3.129215\n",
       "116  1.768992  2.528232\n",
       "117  1.622635  1.790810\n",
       "118  2.419892  2.496484\n",
       "119  2.059504  0.953642\n",
       "\n",
       "[120 rows x 2 columns]"
      ]
     },
     "execution_count": 4,
     "metadata": {},
     "output_type": "execute_result"
    }
   ],
   "source": [
    "clustered_data   =np.concatenate((cluster_1,cluster_2,cluster_3))\n",
    "clustered_data_df=pd.DataFrame(data =clustered_data)\n",
    "clustered_data_df.columns = ['X1','X2']\n",
    "clustered_data_df"
   ]
  },
  {
   "cell_type": "code",
   "execution_count": 6,
   "id": "0e229cc3",
   "metadata": {},
   "outputs": [
    {
     "data": {
      "text/plain": [
       "<matplotlib.collections.PathCollection at 0x7fae0c18de50>"
      ]
     },
     "execution_count": 6,
     "metadata": {},
     "output_type": "execute_result"
    },
    {
     "data": {
      "image/png": "[encoded data removed]",
      "text/plain": [
       "<Figure size 432x288 with 1 Axes>"
      ]
     },
     "metadata": {
      "needs_background": "light"
     },
     "output_type": "display_data"
    }
   ],
   "source": [
    "# visalise data \n",
    "plt.scatter(clustered_data_df.loc[:,'X1'], clustered_data_df.loc[:,'X2'])"
   ]
  },
  {
   "cell_type": "code",
   "execution_count": 7,
   "id": "e77a7054",
   "metadata": {},
   "outputs": [],
   "source": [
    "# create tsne object which will reduce data to 2 dimensions \n",
    "tsne =TSNE (n_components=2, perplexity=10)\n",
    "#A perlexity is more or less a target number of neighbors for our central point.\n",
    "#Besically , the higher the perplexity is the higher value variance has \n",
    "\n",
    "#pca = PCA (n_components=2)"
   ]
  },
  {
   "cell_type": "code",
   "execution_count": 8,
   "id": "bd88fe7a",
   "metadata": {},
   "outputs": [
    {
     "data": {
      "text/plain": [
       "array([[ 17.40948   ,  31.653038  ],\n",
       "       [ 14.893442  ,  31.841358  ],\n",
       "       [  5.272218  ,  31.414837  ],\n",
       "       [ 12.4881935 ,  23.915308  ],\n",
       "       [  1.9723214 ,  25.672354  ],\n",
       "       [  7.794594  ,  23.086533  ],\n",
       "       [ 16.490292  ,  24.538172  ],\n",
       "       [  6.775079  ,  28.019442  ],\n",
       "       [  4.2027974 ,  33.52038   ],\n",
       "       [  6.2286816 ,  32.09811   ],\n",
       "       [  5.805307  ,  28.445557  ],\n",
       "       [ 12.918504  ,  31.042337  ],\n",
       "       [  9.036453  ,  22.38493   ],\n",
       "       [  5.7849107 ,  33.550087  ],\n",
       "       [  9.417952  ,  25.83619   ],\n",
       "       [ 16.68952   ,  27.42315   ],\n",
       "       [ 12.0580015 ,  25.411123  ],\n",
       "       [  7.7900877 ,  27.725256  ],\n",
       "       [  3.2259996 ,  26.665438  ],\n",
       "       [  6.990092  ,  34.36453   ],\n",
       "       [  4.052168  ,  27.349312  ],\n",
       "       [  8.370104  ,  21.848219  ],\n",
       "       [ 13.397681  ,  25.095104  ],\n",
       "       [ 14.221402  ,  21.96586   ],\n",
       "       [  1.0200092 ,  24.656265  ],\n",
       "       [ 15.733709  ,  29.922606  ],\n",
       "       [ 15.878513  ,  28.345865  ],\n",
       "       [ 10.75792   ,  24.936497  ],\n",
       "       [ 15.962145  ,  26.741774  ],\n",
       "       [  4.0100346 ,  32.50845   ],\n",
       "       [ 16.94494   ,  29.758879  ],\n",
       "       [ 12.744934  ,  32.281742  ],\n",
       "       [ 13.6889515 ,  32.453934  ],\n",
       "       [  3.90555   ,  30.713465  ],\n",
       "       [ 12.546027  ,  22.315054  ],\n",
       "       [  3.3110392 ,  34.649036  ],\n",
       "       [ 17.727638  ,  25.335527  ],\n",
       "       [ 15.736546  ,  23.518278  ],\n",
       "       [ 11.327071  ,  26.187963  ],\n",
       "       [ 14.391279  ,  30.902224  ],\n",
       "       [-23.034554  ,  -7.735658  ],\n",
       "       [-29.778202  ,  -5.1080327 ],\n",
       "       [-26.43759   ,   3.3462496 ],\n",
       "       [-22.997936  ,  -6.599935  ],\n",
       "       [-35.51083   ,  -3.9586675 ],\n",
       "       [-32.75215   ,  -7.1476655 ],\n",
       "       [-36.693333  ,  -4.218159  ],\n",
       "       [-23.998985  ,  -6.1010466 ],\n",
       "       [-36.863518  ,  -1.80075   ],\n",
       "       [-31.53293   ,  -5.139229  ],\n",
       "       [-34.37342   ,  -9.436435  ],\n",
       "       [-34.347237  ,  -8.48692   ],\n",
       "       [-30.187376  ,  -6.1126246 ],\n",
       "       [-32.52245   ,  -5.8138347 ],\n",
       "       [-26.42712   ,   2.2085721 ],\n",
       "       [-24.286032  ,  -8.754255  ],\n",
       "       [-32.791893  ,  -4.5642185 ],\n",
       "       [-33.855515  ,  -5.0345054 ],\n",
       "       [-26.99991   ,  -6.5888357 ],\n",
       "       [-28.693306  ,  -1.7206907 ],\n",
       "       [-21.289516  ,  -6.127961  ],\n",
       "       [-21.05434   ,  -7.6108575 ],\n",
       "       [-33.670383  ,  -6.4204774 ],\n",
       "       [-24.585121  ,   2.763921  ],\n",
       "       [-25.435411  ,  -7.883535  ],\n",
       "       [-22.436031  ,  -5.3417683 ],\n",
       "       [-37.936474  ,  -0.7560292 ],\n",
       "       [-27.318983  ,  -5.37566   ],\n",
       "       [-36.936916  ,  -2.705     ],\n",
       "       [-25.230387  ,  -4.7613277 ],\n",
       "       [-23.244524  ,   1.5891615 ],\n",
       "       [-26.546492  ,   0.21264362],\n",
       "       [-30.500559  ,  -3.8231494 ],\n",
       "       [-37.679005  ,   0.0853129 ],\n",
       "       [-22.550896  ,   2.513889  ],\n",
       "       [-25.006323  ,   1.6697787 ],\n",
       "       [  0.55038583,  25.389997  ],\n",
       "       [-27.648314  ,  -0.9280937 ],\n",
       "       [-27.497581  ,   3.4718292 ],\n",
       "       [-28.8278    ,   2.574642  ],\n",
       "       [ 15.460546  , -37.28742   ],\n",
       "       [ 14.573666  , -34.767796  ],\n",
       "       [ 12.556754  , -29.288654  ],\n",
       "       [ 12.667832  , -34.725113  ],\n",
       "       [ 19.175758  , -39.893486  ],\n",
       "       [ 22.104551  , -33.749847  ],\n",
       "       [ 23.067389  , -31.344025  ],\n",
       "       [ 13.662578  , -28.110533  ],\n",
       "       [ 22.16661   , -26.339811  ],\n",
       "       [ 19.060568  , -31.932762  ],\n",
       "       [ 14.506706  , -31.175198  ],\n",
       "       [ 18.696768  , -39.039555  ],\n",
       "       [ 20.410004  , -39.804447  ],\n",
       "       [ 16.289782  , -35.40298   ],\n",
       "       [ 15.696352  , -31.419975  ],\n",
       "       [ 21.733616  , -38.031902  ],\n",
       "       [ 20.204954  , -35.75218   ],\n",
       "       [ 22.792908  , -32.550354  ],\n",
       "       [ 13.859302  , -38.593845  ],\n",
       "       [ 18.734882  , -29.029982  ],\n",
       "       [ 21.2388    , -32.732643  ],\n",
       "       [ 12.601517  , -33.00594   ],\n",
       "       [ 22.183266  , -39.090675  ],\n",
       "       [ 23.165598  , -38.43342   ],\n",
       "       [ 19.309412  , -30.525063  ],\n",
       "       [ 17.830421  , -29.933239  ],\n",
       "       [ 18.679592  , -35.256603  ],\n",
       "       [ 12.559336  , -27.895504  ],\n",
       "       [ 15.130282  , -27.52141   ],\n",
       "       [ 22.977377  , -28.474169  ],\n",
       "       [ 15.945029  , -27.721735  ],\n",
       "       [ 13.229723  , -39.89514   ],\n",
       "       [ 16.896824  , -34.525093  ],\n",
       "       [ 16.031887  , -33.247734  ],\n",
       "       [ 21.646755  , -26.859596  ],\n",
       "       [ 13.778731  , -40.55931   ],\n",
       "       [ 13.8876915 , -36.496735  ],\n",
       "       [ 21.014997  , -34.757385  ],\n",
       "       [ 12.313835  , -31.375854  ],\n",
       "       [ 23.729086  , -28.631271  ]], dtype=float32)"
      ]
     },
     "execution_count": 8,
     "metadata": {},
     "output_type": "execute_result"
    }
   ],
   "source": [
    "#apply tSNE to data \n",
    "data_2d = tsne.fit_transform(clustered_data_df)\n",
    "data_2d"
   ]
  },
  {
   "cell_type": "code",
   "execution_count": 9,
   "id": "26798734",
   "metadata": {},
   "outputs": [
    {
     "data": {
      "text/plain": [
       "<matplotlib.collections.PathCollection at 0x7fae19e74220>"
      ]
     },
     "execution_count": 9,
     "metadata": {},
     "output_type": "execute_result"
    },
    {
     "data": {
      "image/png": "[encoded data removed]",
      "text/plain": [
       "<Figure size 432x288 with 1 Axes>"
      ]
     },
     "metadata": {
      "needs_background": "light"
     },
     "output_type": "display_data"
    }
   ],
   "source": [
    "#plot tSNE transfored data \n",
    "plt.scatter(data_2d[:,0], data_2d[:,1])"
   ]
  },
  {
   "cell_type": "markdown",
   "id": "5d487b3e",
   "metadata": {},
   "source": [
    "# Observation- Even if we project it into dimension, the local structure is preserver with a distance . "
   ]
  },
  {
   "cell_type": "markdown",
   "id": "1e76a632",
   "metadata": {},
   "source": [
    "## Note "
   ]
  },
  {
   "cell_type": "markdown",
   "id": "64b9bb2c",
   "metadata": {},
   "source": [
    "#### Loss Funtion is KL-Divergence. We need reduce this wirh iterations . We can accomplish with the help of Gradient Descent Optimizer . "
   ]
  },
  {
   "cell_type": "code",
   "execution_count": null,
   "id": "0d284cfc",
   "metadata": {},
   "outputs": [],
   "source": []
  },
  {
   "cell_type": "code",
   "execution_count": null,
   "id": "8dc066f6",
   "metadata": {},
   "outputs": [],
   "source": []
  }
 ],
 "metadata": {
  "kernelspec": {
   "display_name": "Python 3 (ipykernel)",
   "language": "python",
   "name": "python3"
  },
  "language_info": {
   "codemirror_mode": {
    "name": "ipython",
    "version": 3
   },
   "file_extension": ".py",
   "mimetype": "text/x-python",
   "name": "python",
   "nbconvert_exporter": "python",
   "pygments_lexer": "ipython3",
   "version": "3.9.7"
  }
 },
 "nbformat": 4,
 "nbformat_minor": 5
}
